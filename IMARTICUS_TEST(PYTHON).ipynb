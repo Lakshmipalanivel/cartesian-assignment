{
  "nbformat": 4,
  "nbformat_minor": 0,
  "metadata": {
    "colab": {
      "name": "IMARTICUS TEST(PYTHON)",
      "provenance": [],
      "collapsed_sections": []
    },
    "kernelspec": {
      "name": "python3",
      "display_name": "Python 3"
    },
    "language_info": {
      "name": "python"
    }
  },
  "cells": [
    {
      "cell_type": "code",
      "source": [
        "PRINT EACH WORD IN REVERSE ORDER:"
      ],
      "metadata": {
        "id": "j6sv5Yx0hNLZ"
      },
      "execution_count": null,
      "outputs": []
    },
    {
      "cell_type": "code",
      "execution_count": 13,
      "metadata": {
        "colab": {
          "base_uri": "https://localhost:8080/"
        },
        "id": "j-K32tL1ZD6P",
        "outputId": "6e869427-554e-4116-c933-5896d2a6e185"
      },
      "outputs": [
        {
          "output_type": "stream",
          "name": "stdout",
          "text": [
            "results business and decision-making insightsimproving meaningful,actionable out draw to order in data raw analyzing of process the is analytics .Data and analyzing for means a as enterprise the in important increasingly become has analytics Data\n"
          ]
        }
      ],
      "source": [
        "\n",
        "string = \"Data analytics has become increasingly important in the enterprise as a means for analyzing and Data analytics is the process of analyzing raw data in order to draw out meaningful,actionable insightsimproving decision-making and business results\"\n",
        "words = string.split()\n",
        "words = list(reversed(words))\n",
        "print(\" \".join(words))"
      ]
    },
    {
      "cell_type": "code",
      "source": [
        "split_it = string.split()"
      ],
      "metadata": {
        "id": "-LyfCcCWdg_G"
      },
      "execution_count": 14,
      "outputs": []
    },
    {
      "cell_type": "code",
      "source": [
        "from collections import Counter"
      ],
      "metadata": {
        "id": "SP38EZ_Sd4Cn"
      },
      "execution_count": 15,
      "outputs": []
    },
    {
      "cell_type": "code",
      "source": [
        "Counter = Counter(split_it)"
      ],
      "metadata": {
        "id": "xzfg2mQddoZn"
      },
      "execution_count": 16,
      "outputs": []
    },
    {
      "cell_type": "code",
      "source": [
        "most_occur = Counter.most_common(3)\n"
      ],
      "metadata": {
        "id": "Davhxy5BeB0c"
      },
      "execution_count": 23,
      "outputs": []
    },
    {
      "cell_type": "code",
      "source": [
        "print(\"Word with most occurence : \" + str(most_occur))"
      ],
      "metadata": {
        "colab": {
          "base_uri": "https://localhost:8080/"
        },
        "id": "w_vC6PJQgSb-",
        "outputId": "839e75d6-868b-4f59-c82b-1fe6e6397cb0"
      },
      "execution_count": 26,
      "outputs": [
        {
          "output_type": "stream",
          "name": "stdout",
          "text": [
            "Word with most occurence : [('analytics', 2), ('in', 2), ('the', 2)]\n"
          ]
        }
      ]
    }
  ]
}